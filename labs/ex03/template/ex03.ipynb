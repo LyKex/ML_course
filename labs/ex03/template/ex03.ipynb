{
 "cells": [
  {
   "cell_type": "markdown",
   "metadata": {},
   "source": [
    "### Import python files from another directory\n",
    "In order to reuse code written in .py files you need to import them. <br/>\n",
    "If they are from a distant folder, rather than copy-paste it into the current folder, you can write:"
   ]
  },
  {
   "cell_type": "code",
   "execution_count": 1,
   "metadata": {},
   "outputs": [],
   "source": [
    "import sys\n",
    "sys.path.append(\"../../ex02/template\") # This goes up twice in the directories tree (hence in labs)\n",
    "                                       # then goes down to ex02/template where your files from lab 2 are."
   ]
  },
  {
   "cell_type": "markdown",
   "metadata": {},
   "source": [
    "you can now import your desired files, for example, we can import grid_search.py with:"
   ]
  },
  {
   "cell_type": "code",
   "execution_count": 2,
   "metadata": {},
   "outputs": [
    {
     "name": "stdout",
     "output_type": "stream",
     "text": [
      "[-100.  -25.   50.  125.  200.] [-150.  -75.    0.   75.  150.]\n"
     ]
    }
   ],
   "source": [
    "from grid_search import *\n",
    "\n",
    "# Let's try to call generate_w from grid_search.py:\n",
    "w0, w1 = generate_w(5)\n",
    "print(w0, w1)"
   ]
  },
  {
   "cell_type": "markdown",
   "metadata": {},
   "source": [
    "As you can see we are now able to call functions from the grid_search.py file."
   ]
  },
  {
   "cell_type": "code",
   "execution_count": 3,
   "metadata": {},
   "outputs": [],
   "source": [
    "# Useful starting lines\n",
    "%matplotlib inline\n",
    "import numpy as np\n",
    "import matplotlib.pyplot as plt\n",
    "%load_ext autoreload\n",
    "%autoreload 2"
   ]
  },
  {
   "cell_type": "markdown",
   "metadata": {},
   "source": [
    "# 1 Least squares and linear basis functions models\n",
    "## 1.1 Least squares"
   ]
  },
  {
   "cell_type": "code",
   "execution_count": 4,
   "metadata": {
    "collapsed": true
   },
   "outputs": [],
   "source": [
    "from helpers import *\n",
    "\n",
    "def compute_error(y, tx, w):\n",
    "    # print(tx.shape, w.shape)\n",
    "    return y - tx @ w\n",
    "\n",
    "def compute_loss(y, tx, w):\n",
    "    \"\"\"Calculate the loss with MSE.\n",
    "    \"\"\"\n",
    "    e = compute_error(y, tx, w)\n",
    "\n",
    "    return np.sum((e ** 2), axis=0) / (2 * len(y)) \n",
    "def compute_rmse(y, tx, w):\n",
    "    \"\"\"Calculate the loss with RMSE.\n",
    "    \"\"\"\n",
    "    mse = compute_loss(y, tx, w)\n",
    "    return np.sqrt(2 * mse)\n",
    "\n",
    "def least_squares(y, tx):\n",
    "    \"\"\"calculate the least squares solution.\"\"\"\n",
    "    w = np.linalg.lstsq(tx, y, rcond=None)[0] # if X is not full rank, w minimize MAE\n",
    "    mse = compute_loss(y, tx, w)\n",
    "    return mse, w\n"
   ]
  },
  {
   "cell_type": "code",
   "execution_count": 5,
   "metadata": {},
   "outputs": [
    {
     "data": {
      "text/plain": [
       "(array([[1., 0., 1.],\n",
       "        [1., 2., 3.]]),\n",
       " array([1, 2]),\n",
       " array([1., 1., 1.]))"
      ]
     },
     "execution_count": 5,
     "metadata": {},
     "output_type": "execute_result"
    }
   ],
   "source": [
    "test_y = np.array([1,2])\n",
    "test_x = np.arange(4).reshape(2,2)\n",
    "test_x = np.c_[np.ones(test_x.shape[0]), test_x]\n",
    "test_w = np.ones(3)\n",
    "test_x, test_y, test_w"
   ]
  },
  {
   "cell_type": "code",
   "execution_count": 6,
   "metadata": {},
   "outputs": [
    {
     "name": "stdout",
     "output_type": "stream",
     "text": [
      "[-1. -4.]\n",
      "4.25\n",
      "(2.465190328815662e-31, array([5.00000000e-01, 4.55224306e-16, 5.00000000e-01]))\n"
     ]
    }
   ],
   "source": [
    "print(compute_error(test_y, test_x, test_w))\n",
    "print(compute_loss(test_y, test_x, test_w))\n",
    "print(least_squares(test_y, test_x))"
   ]
  },
  {
   "cell_type": "markdown",
   "metadata": {},
   "source": [
    "### Load the data\n",
    "Here we will reuse the dataset `height_weight_genders.csv` from previous exercise section to check the correctness of your implementation. Please compare it with your previous result."
   ]
  },
  {
   "cell_type": "code",
   "execution_count": 7,
   "metadata": {},
   "outputs": [],
   "source": [
    "from helpers import *\n",
    "def test_your_least_squares():\n",
    "    height, weight, gender = load_data_from_ex02(sub_sample=False, add_outlier=False)\n",
    "    x, mean_x, std_x = standardize(height)\n",
    "    y, tx = build_model_data(x, weight)\n",
    "    # ***************************************************\n",
    "    # INSERT YOUR CODE HERE\n",
    "    # least square or grid search: TODO\n",
    "    # this code should compare the optimal weights obtained \n",
    "    # by least squares vs. grid search\n",
    "    # ***************************************************\n",
    "    ls_loss, ls_w = least_squares(y, tx)\n",
    "    gs_loss, gs_w = grid_search(y, tx, num_intervals=100)\n",
    "    print('Least squares loss: {:.2f}, optimal weight: {}'.format(ls_loss, ls_w))\n",
    "    print('Grid search loss:{:.2f}, optimal weight: {}'.format(gs_loss, gs_w))"
   ]
  },
  {
   "cell_type": "markdown",
   "metadata": {},
   "source": [
    "Test it here"
   ]
  },
  {
   "cell_type": "code",
   "execution_count": 8,
   "metadata": {},
   "outputs": [
    {
     "name": "stdout",
     "output_type": "stream",
     "text": [
      "Least squares loss: 15.39, optimal weight: [73.293922   13.47971243]\n",
      "Grid search loss:15.56, optimal weight: [72.72727272727272, 13.636363636363626]\n"
     ]
    }
   ],
   "source": [
    "test_your_least_squares()"
   ]
  },
  {
   "cell_type": "markdown",
   "metadata": {},
   "source": [
    "## 1.2 Least squares with a linear basis function model\n",
    "Start from this section, we will use the dataset `dataEx3.csv`.\n",
    "\n",
    "### Implement polynomial basis functions"
   ]
  },
  {
   "cell_type": "code",
   "execution_count": 9,
   "metadata": {
    "scrolled": true
   },
   "outputs": [
    {
     "name": "stdout",
     "output_type": "stream",
     "text": [
      "shape of x (50,)\n",
      "shape of y (50,)\n"
     ]
    }
   ],
   "source": [
    "# load dataset\n",
    "x, y = load_data()\n",
    "print(\"shape of x {}\".format(x.shape))\n",
    "print(\"shape of y {}\".format(y.shape))"
   ]
  },
  {
   "cell_type": "code",
   "execution_count": 10,
   "metadata": {},
   "outputs": [],
   "source": [
    "from helpers import *\n",
    "def build_poly(x, degree):\n",
    "    \"\"\"polynomial basis functions for input data x, for j=0 up to j=degree.\"\"\"\n",
    "    if degree <= 0:\n",
    "        raise ValueError(\"degree should be >= 1\")\n",
    "    x, _, _ = standardize(x)\n",
    "    px = np.vstack([x**j for j in range(0,degree+1)])\n",
    "    return px.T"
   ]
  },
  {
   "cell_type": "markdown",
   "metadata": {},
   "source": [
    "Let us play with polynomial regression. Note that we will use your implemented function `compute_mse`. Please copy and paste your implementation from exercise02."
   ]
  },
  {
   "cell_type": "code",
   "execution_count": 12,
   "metadata": {},
   "outputs": [],
   "source": [
    "from plots import *\n",
    "\n",
    "def polynomial_regression():\n",
    "    \"\"\"Constructing the polynomial basis function expansion of the data,\n",
    "       and then running least squares regression.\"\"\"\n",
    "    # define parameters\n",
    "    degrees = [1, 3, 7, 12]\n",
    "    \n",
    "    # define the structure of the figure\n",
    "    num_row = 2\n",
    "    num_col = 2\n",
    "    f, axs = plt.subplots(num_row, num_col)\n",
    "\n",
    "    for ind, degree in enumerate(degrees):\n",
    "        px = build_poly(x, degree)\n",
    "        mse, weights = least_squares(y, px)\n",
    "        rmse = np.sqrt(2 * mse)\n",
    "\n",
    "        print(\"Processing {i}th experiment, degree={d}, rmse={loss}\".format(\n",
    "              i=ind + 1, d=degree, loss=rmse))\n",
    "        # plot fit\n",
    "        plot_fitted_curve(\n",
    "            y, x, weights, degree, axs[ind // num_col][ind % num_col])\n",
    "    plt.tight_layout()\n",
    "    plt.savefig(\"visualize_polynomial_regression\")\n",
    "    plt.show()"
   ]
  },
  {
   "cell_type": "markdown",
   "metadata": {},
   "source": [
    "Run polynomial regression"
   ]
  },
  {
   "cell_type": "code",
   "execution_count": 14,
   "metadata": {},
   "outputs": [
    {
     "name": "stdout",
     "output_type": "stream",
     "text": [
      "Processing 1th experiment, degree=1, rmse=0.47187607963421874\n",
      "Processing 2th experiment, degree=3, rmse=0.2585827766773748\n",
      "Processing 3th experiment, degree=7, rmse=0.24965870360907508\n",
      "Processing 4th experiment, degree=12, rmse=0.24032507466876504\n"
     ]
    },
    {
     "data": {
      "image/png": "[encoded data removed]",
      "text/plain": [
       "<Figure size 432x288 with 4 Axes>"
      ]
     },
     "metadata": {
      "needs_background": "light"
     },
     "output_type": "display_data"
    }
   ],
   "source": [
    "polynomial_regression()"
   ]
  },
  {
   "cell_type": "markdown",
   "metadata": {},
   "source": [
    "# 2 Evaluating model predication performance\n",
    "\n",
    "\n",
    "Let us show the train and test splits for various polynomial degrees. First of all, please fill in the function `split_data()`"
   ]
  },
  {
   "cell_type": "code",
   "execution_count": 15,
   "metadata": {},
   "outputs": [],
   "source": [
    "def split_data(x, y, ratio, seed=1):\n",
    "    \"\"\"\n",
    "    split the dataset based on the split ratio. If ratio is 0.8 \n",
    "    you will have 80% of your data set dedicated to training \n",
    "    and the rest dedicated to testing\n",
    "    \"\"\"\n",
    "    # set seed\n",
    "    np.random.seed(seed)\n",
    "    # split the data based on the given ratio:\n",
    "    n = len(y)\n",
    "    n_train =  int(ratio * n)\n",
    "    if not (n_train > 0 and n > n_train):\n",
    "        raise ValueError('split ratio incorret')\n",
    "    index = np.arange(n)\n",
    "    np.random.shuffle(index)\n",
    "    train_idx = index[:n_train]\n",
    "    test_idx = index[n_train:]\n",
    "    return (x[train_idx], y[train_idx]), (x[test_idx], y[test_idx])"
   ]
  },
  {
   "cell_type": "code",
   "execution_count": 16,
   "metadata": {},
   "outputs": [
    {
     "data": {
      "text/plain": [
       "(25,)"
      ]
     },
     "execution_count": 16,
     "metadata": {},
     "output_type": "execute_result"
    }
   ],
   "source": [
    "tr, te = split_data(x, y, ratio=0.5, seed=1)\n",
    "te[0].shape"
   ]
  },
  {
   "cell_type": "markdown",
   "metadata": {},
   "source": [
    "Then, test your `split_data` function below."
   ]
  },
  {
   "cell_type": "code",
   "execution_count": 17,
   "metadata": {},
   "outputs": [],
   "source": [
    "def train_test_split_demo(x, y, degree, ratio, seed):\n",
    "    \"\"\"polynomial regression with different split ratios and different degrees.\"\"\"\n",
    "    # split the data, and return train and test data\n",
    "    train_xy, test_xy = split_data(x, y, ratio, seed)\n",
    "\n",
    "    # form train and test data with polynomial basis function\n",
    "    train_x = build_poly(train_xy[0], degree)\n",
    "    test_x = build_poly(test_xy[0], degree)\n",
    "    train_y = train_xy[1]\n",
    "    test_y = test_xy[1]\n",
    "\n",
    "    # calculate weight through least square\n",
    "    train_mse, w = least_squares(train_y, train_x)\n",
    "    test_mse = compute_loss(test_y, test_x, w)\n",
    "\n",
    "    # calculate RMSE for train and test data,\n",
    "    # and store them in rmse_tr and rmse_te respectively: \n",
    "    rmse_tr = np.sqrt(2 * train_mse)\n",
    "    rmse_te = np.sqrt(2 * test_mse)\n",
    "    print(\"proportion={p}, degree={d}, Training RMSE={tr:.3f}, Testing RMSE={te:.3f}\".format(\n",
    "          p=ratio, d=degree, tr=rmse_tr, te=rmse_te))\n"
   ]
  },
  {
   "cell_type": "code",
   "execution_count": 18,
   "metadata": {},
   "outputs": [
    {
     "name": "stdout",
     "output_type": "stream",
     "text": [
      "proportion=0.9, degree=1, Training RMSE=0.455, Testing RMSE=0.561\n",
      "proportion=0.9, degree=3, Training RMSE=0.264, Testing RMSE=0.467\n",
      "proportion=0.9, degree=7, Training RMSE=0.257, Testing RMSE=0.485\n",
      "proportion=0.9, degree=12, Training RMSE=0.246, Testing RMSE=0.486\n",
      "proportion=0.5, degree=1, Training RMSE=0.400, Testing RMSE=0.576\n",
      "proportion=0.5, degree=3, Training RMSE=0.237, Testing RMSE=0.395\n",
      "proportion=0.5, degree=7, Training RMSE=0.218, Testing RMSE=0.446\n",
      "proportion=0.5, degree=12, Training RMSE=0.187, Testing RMSE=0.713\n",
      "proportion=0.1, degree=1, Training RMSE=0.453, Testing RMSE=0.539\n",
      "proportion=0.1, degree=3, Training RMSE=0.111, Testing RMSE=0.649\n",
      "proportion=0.1, degree=7, Training RMSE=0.000, Testing RMSE=3.011\n",
      "proportion=0.1, degree=12, Training RMSE=0.000, Testing RMSE=24.582\n"
     ]
    }
   ],
   "source": [
    "seed = 1\n",
    "degrees = [1, 3, 7, 12]\n",
    "split_ratios = [0.9, 0.5, 0.1]\n",
    "\n",
    "for split_ratio in split_ratios:\n",
    "    for degree in degrees:\n",
    "        train_test_split_demo(x, y, degree, split_ratio, seed)"
   ]
  },
  {
   "cell_type": "markdown",
   "metadata": {},
   "source": [
    "# 3 Ridge Regression\n",
    "Please fill in the function below."
   ]
  },
  {
   "cell_type": "code",
   "execution_count": 19,
   "metadata": {},
   "outputs": [],
   "source": [
    "def ridge_regression(y, tx, lambda_):\n",
    "    \"\"\"implement ridge regression.\"\"\"\n",
    "    lambda_I = lambda_* (2 * tx.shape[0]) * np.identity(tx.shape[1])\n",
    "    A = tx.T @ tx + lambda_I\n",
    "    # w = np.linalg.lstsq(A, tx.T.dot(y), rcond=None)[0]\n",
    "    w = np.linalg.solve(A, tx.T.dot(y))\n",
    "    return w"
   ]
  },
  {
   "cell_type": "code",
   "execution_count": 29,
   "metadata": {},
   "outputs": [],
   "source": [
    "def ridge_regression_demo(x, y, degree, ratio, seed):\n",
    "    \"\"\"ridge regression demo.\"\"\"\n",
    "    # define parameter\n",
    "    lambdas = np.logspace(-5, 0, 15)\n",
    "    # lambdas = np.linspace(0, 1, 15)\n",
    "\n",
    " \n",
    "    # split the data, and return train and test data: \n",
    "    xy_tr, xy_te = split_data(x, y, ratio, seed)\n",
    " \n",
    "    # form train and test data with polynomial basis function:\n",
    "    x_tr = build_poly(xy_tr[0], degree)\n",
    "    x_te = build_poly(xy_te[0], degree)\n",
    "    y_tr = xy_tr[1]\n",
    "    y_te = xy_te[1]\n",
    "\n",
    "    rmse_tr = []\n",
    "    rmse_te = []\n",
    "    for ind, lambda_ in enumerate(lambdas):\n",
    "        # ridge regression with a given lambda\n",
    "        w = ridge_regression(y_tr, x_tr, lambda_)\n",
    "        rmse_tr.append(compute_rmse(y_tr, x_tr, w))\n",
    "        rmse_te.append(compute_rmse(y_te, x_te, w))\n",
    "\n",
    "        print(\"proportion={p}, degree={d}, lambda={l:.3e}, Training RMSE={tr:.3f}, Testing RMSE={te:.3f}\".format(\n",
    "               p=ratio, d=degree, l=lambda_, tr=rmse_tr[ind], te=rmse_te[ind]))\n",
    "        \n",
    "    # Plot the obtained results\n",
    "    plot_train_test(rmse_tr, rmse_te, lambdas, degree)\n"
   ]
  },
  {
   "cell_type": "code",
   "execution_count": 30,
   "metadata": {},
   "outputs": [
    {
     "name": "stdout",
     "output_type": "stream",
     "text": [
      "proportion=0.9, degree=7, lambda=1.000e-05, Training RMSE=0.257, Testing RMSE=0.484\n",
      "proportion=0.9, degree=7, lambda=2.276e-05, Training RMSE=0.257, Testing RMSE=0.484\n",
      "proportion=0.9, degree=7, lambda=5.179e-05, Training RMSE=0.257, Testing RMSE=0.483\n",
      "proportion=0.9, degree=7, lambda=1.179e-04, Training RMSE=0.257, Testing RMSE=0.482\n",
      "proportion=0.9, degree=7, lambda=2.683e-04, Training RMSE=0.257, Testing RMSE=0.479\n",
      "proportion=0.9, degree=7, lambda=6.105e-04, Training RMSE=0.258, Testing RMSE=0.475\n",
      "proportion=0.9, degree=7, lambda=1.389e-03, Training RMSE=0.259, Testing RMSE=0.470\n",
      "proportion=0.9, degree=7, lambda=3.162e-03, Training RMSE=0.262, Testing RMSE=0.466\n",
      "proportion=0.9, degree=7, lambda=7.197e-03, Training RMSE=0.268, Testing RMSE=0.466\n",
      "proportion=0.9, degree=7, lambda=1.638e-02, Training RMSE=0.283, Testing RMSE=0.475\n",
      "proportion=0.9, degree=7, lambda=3.728e-02, Training RMSE=0.315, Testing RMSE=0.496\n",
      "proportion=0.9, degree=7, lambda=8.483e-02, Training RMSE=0.363, Testing RMSE=0.519\n",
      "proportion=0.9, degree=7, lambda=1.931e-01, Training RMSE=0.418, Testing RMSE=0.529\n",
      "proportion=0.9, degree=7, lambda=4.394e-01, Training RMSE=0.480, Testing RMSE=0.530\n",
      "proportion=0.9, degree=7, lambda=1.000e+00, Training RMSE=0.550, Testing RMSE=0.539\n"
     ]
    },
    {
     "data": {
      "image/png": "[encoded data removed]",
      "text/plain": [
       "<Figure size 432x288 with 1 Axes>"
      ]
     },
     "metadata": {
      "needs_background": "light"
     },
     "output_type": "display_data"
    }
   ],
   "source": [
    "seed = 1\n",
    "degree = 7\n",
    "split_ratio = 0.9\n",
    "ridge_regression_demo(x, y, degree, split_ratio, seed)"
   ]
  },
  {
   "cell_type": "code",
   "execution_count": null,
   "metadata": {},
   "outputs": [],
   "source": []
  }
 ],
 "metadata": {
  "anaconda-cloud": {},
  "interpreter": {
   "hash": "9b0668826dfdb2edaafd20e37675f95a02c7f4a92d40f94c782579ea2d31134d"
  },
  "kernelspec": {
   "display_name": "Python 3.8.10 64-bit ('pyenv': venv)",
   "name": "python3"
  },
  "language_info": {
   "codemirror_mode": {
    "name": "ipython",
    "version": 3
   },
   "file_extension": ".py",
   "mimetype": "text/x-python",
   "name": "python",
   "nbconvert_exporter": "python",
   "pygments_lexer": "ipython3",
   "version": "3.8.10"
  }
 },
 "nbformat": 4,
 "nbformat_minor": 1
}
